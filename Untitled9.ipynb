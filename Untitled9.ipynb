{
  "nbformat": 4,
  "nbformat_minor": 0,
  "metadata": {
    "colab": {
      "provenance": [],
      "authorship_tag": "ABX9TyOBXD/jIzE/t4Csop88+D25",
      "include_colab_link": true
    },
    "kernelspec": {
      "name": "python3",
      "display_name": "Python 3"
    },
    "language_info": {
      "name": "python"
    }
  },
  "cells": [
    {
      "cell_type": "markdown",
      "metadata": {
        "id": "view-in-github",
        "colab_type": "text"
      },
      "source": [
        "<a href=\"https://colab.research.google.com/github/Septianadaw/Septianaweek13/blob/main/Untitled9.ipynb\" target=\"_parent\"><img src=\"https://colab.research.google.com/assets/colab-badge.svg\" alt=\"Open In Colab\"/></a>"
      ]
    },
    {
      "cell_type": "code",
      "execution_count": null,
      "metadata": {
        "id": "1jK-gVXpD_Ko"
      },
      "outputs": [],
      "source": [
        "#Create a class named MyClass, with a property named x:\n",
        "class MyClass:\n",
        "  x = 5"
      ]
    },
    {
      "cell_type": "code",
      "source": [
        "#Create an object named p1, and print the value of x:\n",
        "p1 = MyClass()\n",
        "print(p1.x)"
      ],
      "metadata": {
        "colab": {
          "base_uri": "https://localhost:8080/"
        },
        "id": "L6GiW_-5EpcO",
        "outputId": "62d72f49-0e93-413a-95a6-078d9cc89c98"
      },
      "execution_count": null,
      "outputs": [
        {
          "output_type": "stream",
          "name": "stdout",
          "text": [
            "5\n"
          ]
        }
      ]
    },
    {
      "cell_type": "code",
      "source": [
        "#Create a class named Person, use the __init__() function to assign values for name and age:\n",
        "class Person:\n",
        "  def __init__(self, name, age):\n",
        "    self.name = name\n",
        "    self.age = age\n",
        "\n",
        "p1 = Person(\"John\", 36)\n",
        "\n",
        "print(p1.name)\n",
        "print(p1.age)"
      ],
      "metadata": {
        "colab": {
          "base_uri": "https://localhost:8080/"
        },
        "id": "NRLrl1rHEp1-",
        "outputId": "ef46a987-4ff8-438d-eb8c-dcae80a4bccf"
      },
      "execution_count": null,
      "outputs": [
        {
          "output_type": "stream",
          "name": "stdout",
          "text": [
            "John\n",
            "36\n"
          ]
        }
      ]
    },
    {
      "cell_type": "code",
      "source": [
        "#The string representation of an object WITHOUT the __str__() function:\n",
        "class Person:\n",
        "  def __init__(self, name, age):\n",
        "    self.name = name\n",
        "    self.age = age\n",
        "\n",
        "p1 = Person(\"John\", 36)\n",
        "\n",
        "print(p1)"
      ],
      "metadata": {
        "colab": {
          "base_uri": "https://localhost:8080/"
        },
        "id": "lCUXSfRtEswm",
        "outputId": "bb22bceb-3d81-46a4-fb67-0efd4c007fca"
      },
      "execution_count": null,
      "outputs": [
        {
          "output_type": "stream",
          "name": "stdout",
          "text": [
            "<__main__.Person object at 0x782fe4209d50>\n"
          ]
        }
      ]
    },
    {
      "cell_type": "code",
      "source": [
        "#The string representation of an object WITH the __str__() function:\n",
        "class Person:\n",
        "  def __init__(self, name, age):\n",
        "    self.name = name\n",
        "    self.age = age\n",
        "\n",
        "  def __str__(self):\n",
        "    return f\"{self.name}({self.age})\"\n",
        "\n",
        "p1 = Person(\"John\", 36)\n",
        "\n",
        "print(p1)\n"
      ],
      "metadata": {
        "colab": {
          "base_uri": "https://localhost:8080/"
        },
        "id": "o9thVFRtExb9",
        "outputId": "19ed0981-18b0-4dbb-8675-fa60cf39cda8"
      },
      "execution_count": null,
      "outputs": [
        {
          "output_type": "stream",
          "name": "stdout",
          "text": [
            "John(36)\n"
          ]
        }
      ]
    },
    {
      "cell_type": "code",
      "source": [
        "#Insert a function that prints a greeting, and execute it on the p1 object:\n",
        "class Person:\n",
        "  def __init__(self, name, age):\n",
        "    self.name = name\n",
        "    self.age = age\n",
        "\n",
        "  def myfunc(self):\n",
        "    print(\"Hello my name is \" + self.name)\n",
        "\n",
        "p1 = Person(\"John\", 36)\n",
        "p1.myfunc()"
      ],
      "metadata": {
        "colab": {
          "base_uri": "https://localhost:8080/"
        },
        "id": "e5Fvv1jSEzy2",
        "outputId": "ca3efea5-047d-4c9e-da5f-6df1d178f299"
      },
      "execution_count": null,
      "outputs": [
        {
          "output_type": "stream",
          "name": "stdout",
          "text": [
            "Hello my name is John\n"
          ]
        }
      ]
    },
    {
      "cell_type": "code",
      "source": [
        "#Use the words mysillyobject and abc instead of self:\n",
        "class Person:\n",
        "  def __init__(mysillyobject, name, age):\n",
        "    mysillyobject.name = name\n",
        "    mysillyobject.age = age\n",
        "\n",
        "  def myfunc(abc):\n",
        "    print(\"Hello my name is \" + abc.name)\n",
        "\n",
        "p1 = Person(\"John\", 36)\n",
        "p1.myfunc()"
      ],
      "metadata": {
        "colab": {
          "base_uri": "https://localhost:8080/"
        },
        "id": "5ZBsrYzoE6mu",
        "outputId": "f34da809-86cb-4e15-a203-4e5934ac8308"
      },
      "execution_count": null,
      "outputs": [
        {
          "output_type": "stream",
          "name": "stdout",
          "text": [
            "Hello my name is John\n"
          ]
        }
      ]
    },
    {
      "cell_type": "code",
      "source": [
        "#Set the age of p1 to 40:\n",
        "\n",
        "p1.age = 40"
      ],
      "metadata": {
        "id": "pJpVU_pAFBGe"
      },
      "execution_count": null,
      "outputs": []
    },
    {
      "cell_type": "code",
      "source": [
        "#Delete the age property from the p1 object:\n",
        "del p1.age"
      ],
      "metadata": {
        "id": "X6FjeA91FLFG"
      },
      "execution_count": null,
      "outputs": []
    },
    {
      "cell_type": "code",
      "source": [
        "#Delete the p1 object:\n",
        "\n",
        "del p1"
      ],
      "metadata": {
        "id": "kNma2dymFO1W"
      },
      "execution_count": null,
      "outputs": []
    },
    {
      "cell_type": "code",
      "source": [
        "class Person:\n",
        "  pass"
      ],
      "metadata": {
        "id": "bsFWFXUUFSZH"
      },
      "execution_count": null,
      "outputs": []
    },
    {
      "cell_type": "code",
      "source": [
        "#Create a class named Person, with firstname and lastname properties, and a printname method:\n",
        "class Person:\n",
        "  def __init__(self, fname, lname):\n",
        "    self.firstname = fname\n",
        "    self.lastname = lname\n",
        "\n",
        "  def printname(self):\n",
        "    print(self.firstname, self.lastname)\n",
        "\n",
        "#Use the Person class to create an object, and then execute the printname method:\n",
        "\n",
        "x = Person(\"John\", \"Doe\")\n",
        "x.printname()\n"
      ],
      "metadata": {
        "colab": {
          "base_uri": "https://localhost:8080/"
        },
        "id": "FYL1gBMtFVeN",
        "outputId": "b21a17aa-d802-4419-9869-0fd108748f10"
      },
      "execution_count": null,
      "outputs": [
        {
          "output_type": "stream",
          "name": "stdout",
          "text": [
            "John Doe\n"
          ]
        }
      ]
    },
    {
      "cell_type": "code",
      "source": [
        "#Create a class named Student, which will inherit the properties and methods from the Person class:\n",
        "class Student(Person):\n",
        "  pass"
      ],
      "metadata": {
        "id": "YzEWW-4qFWc2"
      },
      "execution_count": null,
      "outputs": []
    },
    {
      "cell_type": "code",
      "source": [
        "#Use the Student class to create an object, and then execute the printname method:\n",
        "\n",
        "x = Student(\"Mike\", \"Olsen\")\n",
        "x.printname()"
      ],
      "metadata": {
        "colab": {
          "base_uri": "https://localhost:8080/"
        },
        "id": "AR43Xj7WFZWN",
        "outputId": "fb91a7fb-e704-42b0-fc67-1643e7ff9855"
      },
      "execution_count": null,
      "outputs": [
        {
          "output_type": "stream",
          "name": "stdout",
          "text": [
            "Mike Olsen\n"
          ]
        }
      ]
    },
    {
      "cell_type": "code",
      "source": [
        "#Add the __init__() function to the Student class:\n",
        "class Student(Person):\n",
        "  def __init__(self, fname, lname):\n",
        "    #add properties etc"
      ],
      "metadata": {
        "colab": {
          "base_uri": "https://localhost:8080/",
          "height": 106
        },
        "id": "CCdNky_9FcLG",
        "outputId": "7bb9ddd7-416f-4811-f9f8-e71a9e7a8e84"
      },
      "execution_count": null,
      "outputs": [
        {
          "output_type": "error",
          "ename": "SyntaxError",
          "evalue": "incomplete input (<ipython-input-19-0fba842dbb98>, line 4)",
          "traceback": [
            "\u001b[0;36m  File \u001b[0;32m\"<ipython-input-19-0fba842dbb98>\"\u001b[0;36m, line \u001b[0;32m4\u001b[0m\n\u001b[0;31m    #add properties etc\u001b[0m\n\u001b[0m                       ^\u001b[0m\n\u001b[0;31mSyntaxError\u001b[0m\u001b[0;31m:\u001b[0m incomplete input\n"
          ]
        }
      ]
    },
    {
      "cell_type": "code",
      "source": [
        "class Student(Person):\n",
        "  def __init__(self, fname, lname):\n",
        "    Person.__init__(self, fname, lname)"
      ],
      "metadata": {
        "id": "e8idGCZIFe6G"
      },
      "execution_count": null,
      "outputs": []
    },
    {
      "cell_type": "code",
      "source": [
        "class Student(Person):\n",
        "  def __init__(self, fname, lname):\n",
        "    super().__init__(fname, lname)"
      ],
      "metadata": {
        "id": "oq-wH2SlF4LO"
      },
      "execution_count": null,
      "outputs": []
    },
    {
      "cell_type": "code",
      "source": [
        "#Add a property called graduationyear to the Student class:\n",
        "\n",
        "class Student(Person):\n",
        "  def __init__(self, fname, lname):\n",
        "    super().__init__(fname, lname)\n",
        "    self.graduationyear = 2023"
      ],
      "metadata": {
        "id": "nj9ZOdASF612"
      },
      "execution_count": null,
      "outputs": []
    },
    {
      "cell_type": "code",
      "source": [
        "#Add a year parameter, and pass the correct year when creating objects:\n",
        "\n",
        "class Student(Person):\n",
        "  def __init__(self, fname, lname, year):\n",
        "    super().__init__(fname, lname)\n",
        "    self.graduationyear = year\n",
        "\n",
        "x = Student(\"Mike\", \"Olsen\", 2023)\n"
      ],
      "metadata": {
        "id": "EVGVd65iF-Ru"
      },
      "execution_count": null,
      "outputs": []
    },
    {
      "cell_type": "code",
      "source": [
        "#Add a method called welcome to the Student class:\n",
        "\n",
        "class Student(Person):\n",
        "  def __init__(self, fname, lname, year):\n",
        "    super().__init__(fname, lname)\n",
        "    self.graduationyear = year\n",
        "\n",
        "  def welcome(self):\n",
        "    print(\"Welcome\", self.firstname, self.lastname, \"to the class of\", self.graduationyear)"
      ],
      "metadata": {
        "id": "bFDT1jQRGBgW"
      },
      "execution_count": null,
      "outputs": []
    },
    {
      "cell_type": "code",
      "source": [
        "#Return an iterator from a tuple, and print each value:\n",
        "\n",
        "mytuple = (\"apple\", \"banana\", \"cherry\")\n",
        "myit = iter(mytuple)\n",
        "\n",
        "print(next(myit))\n",
        "print(next(myit))\n",
        "print(next(myit))"
      ],
      "metadata": {
        "colab": {
          "base_uri": "https://localhost:8080/"
        },
        "id": "XtiwxdVzGG1G",
        "outputId": "c8822828-867e-4acb-d261-27b816512187"
      },
      "execution_count": null,
      "outputs": [
        {
          "output_type": "stream",
          "name": "stdout",
          "text": [
            "apple\n",
            "banana\n",
            "cherry\n"
          ]
        }
      ]
    },
    {
      "cell_type": "code",
      "source": [
        "mystr = \"banana\"\n",
        "myit = iter(mystr)\n",
        "\n",
        "print(next(myit))\n",
        "print(next(myit))\n",
        "print(next(myit))\n",
        "print(next(myit))\n",
        "print(next(myit))\n",
        "print(next(myit))"
      ],
      "metadata": {
        "colab": {
          "base_uri": "https://localhost:8080/"
        },
        "id": "zWypYekPGKwW",
        "outputId": "daa78bd5-8a54-4752-e542-1b13ecb9462f"
      },
      "execution_count": null,
      "outputs": [
        {
          "output_type": "stream",
          "name": "stdout",
          "text": [
            "b\n",
            "a\n",
            "n\n",
            "a\n",
            "n\n",
            "a\n"
          ]
        }
      ]
    },
    {
      "cell_type": "code",
      "source": [
        "#Iterate the values of a tuple:\n",
        "\n",
        "mytuple = (\"apple\", \"banana\", \"cherry\")\n",
        "\n",
        "for x in mytuple:\n",
        "  print(x)"
      ],
      "metadata": {
        "colab": {
          "base_uri": "https://localhost:8080/"
        },
        "id": "RD4Aa0xtGRcm",
        "outputId": "e5e709fe-6592-4824-c939-0400fb9bdb5c"
      },
      "execution_count": null,
      "outputs": [
        {
          "output_type": "stream",
          "name": "stdout",
          "text": [
            "apple\n",
            "banana\n",
            "cherry\n"
          ]
        }
      ]
    },
    {
      "cell_type": "code",
      "source": [
        "#Iterate the characters of a string:\n",
        "\n",
        "mystr = \"banana\"\n",
        "\n",
        "for x in mystr:\n",
        "  print(x)"
      ],
      "metadata": {
        "colab": {
          "base_uri": "https://localhost:8080/"
        },
        "id": "ot4t3jTtGWsl",
        "outputId": "af2ed7e9-4168-4f73-9531-114b0bb5c22b"
      },
      "execution_count": null,
      "outputs": [
        {
          "output_type": "stream",
          "name": "stdout",
          "text": [
            "b\n",
            "a\n",
            "n\n",
            "a\n",
            "n\n",
            "a\n"
          ]
        }
      ]
    },
    {
      "cell_type": "code",
      "source": [
        "#Create an iterator that returns numbers, starting with 1, and each sequence will increase by one (returning 1,2,3,4,5 etc.):\n",
        "\n",
        "class MyNumbers:\n",
        "  def __iter__(self):\n",
        "    self.a = 1\n",
        "    return self\n",
        "\n",
        "  def __next__(self):\n",
        "    x = self.a\n",
        "    self.a += 1\n",
        "    return x\n",
        "\n",
        "myclass = MyNumbers()\n",
        "myiter = iter(myclass)\n",
        "\n",
        "print(next(myiter))\n",
        "print(next(myiter))\n",
        "print(next(myiter))\n",
        "print(next(myiter))\n",
        "print(next(myiter))"
      ],
      "metadata": {
        "colab": {
          "base_uri": "https://localhost:8080/"
        },
        "id": "mn2x6S16Ga42",
        "outputId": "8f41434e-10d1-470f-b735-27906752a7a5"
      },
      "execution_count": null,
      "outputs": [
        {
          "output_type": "stream",
          "name": "stdout",
          "text": [
            "1\n",
            "2\n",
            "3\n",
            "4\n",
            "5\n"
          ]
        }
      ]
    },
    {
      "cell_type": "code",
      "source": [
        "#Stop after 20 iterations:\n",
        "\n",
        "class MyNumbers:\n",
        "  def __iter__(self):\n",
        "    self.a = 1\n",
        "    return self\n",
        "\n",
        "  def __next__(self):\n",
        "    if self.a <= 20:\n",
        "      x = self.a\n",
        "      self.a += 1\n",
        "      return x\n",
        "    else:\n",
        "      raise StopIteration\n",
        "\n",
        "myclass = MyNumbers()\n",
        "myiter = iter(myclass)\n",
        "\n",
        "for x in myiter:\n",
        "  print(x)"
      ],
      "metadata": {
        "colab": {
          "base_uri": "https://localhost:8080/"
        },
        "id": "Iri9XiVRGfa2",
        "outputId": "d3ef4a5b-a241-4992-981f-27357b27e3ad"
      },
      "execution_count": null,
      "outputs": [
        {
          "output_type": "stream",
          "name": "stdout",
          "text": [
            "1\n",
            "2\n",
            "3\n",
            "4\n",
            "5\n",
            "6\n",
            "7\n",
            "8\n",
            "9\n",
            "10\n",
            "11\n",
            "12\n",
            "13\n",
            "14\n",
            "15\n",
            "16\n",
            "17\n",
            "18\n",
            "19\n",
            "20\n"
          ]
        }
      ]
    },
    {
      "cell_type": "code",
      "source": [
        "x = \"Hello World!\"\n",
        "\n",
        "print(len(x))"
      ],
      "metadata": {
        "colab": {
          "base_uri": "https://localhost:8080/"
        },
        "id": "UDK2BbTJGj-_",
        "outputId": "78c8a0e5-f532-460c-bf68-f08e5346410b"
      },
      "execution_count": null,
      "outputs": [
        {
          "output_type": "stream",
          "name": "stdout",
          "text": [
            "12\n"
          ]
        }
      ]
    },
    {
      "cell_type": "code",
      "source": [
        "mytuple = (\"apple\", \"banana\", \"cherry\")\n",
        "\n",
        "print(len(mytuple))"
      ],
      "metadata": {
        "colab": {
          "base_uri": "https://localhost:8080/"
        },
        "id": "LFjdvj1iGn2_",
        "outputId": "d304d394-b772-4cec-d3fd-80d1cf8c595d"
      },
      "execution_count": null,
      "outputs": [
        {
          "output_type": "stream",
          "name": "stdout",
          "text": [
            "3\n"
          ]
        }
      ]
    },
    {
      "cell_type": "code",
      "source": [
        "thisdict = {\n",
        "  \"brand\": \"Ford\",\n",
        "  \"model\": \"Mustang\",\n",
        "  \"year\": 1964\n",
        "}\n",
        "\n",
        "print(len(thisdict))"
      ],
      "metadata": {
        "colab": {
          "base_uri": "https://localhost:8080/"
        },
        "id": "YfCsnj80Gqm-",
        "outputId": "94314302-4dcd-43a7-f6f9-6f47ee768c3e"
      },
      "execution_count": null,
      "outputs": [
        {
          "output_type": "stream",
          "name": "stdout",
          "text": [
            "3\n"
          ]
        }
      ]
    },
    {
      "cell_type": "code",
      "source": [
        "#Different classes with the same method:\n",
        "\n",
        "class Car:\n",
        "  def __init__(self, brand, model):\n",
        "    self.brand = brand\n",
        "    self.model = model\n",
        "\n",
        "  def move(self):\n",
        "    print(\"Drive!\")\n",
        "\n",
        "class Boat:\n",
        "  def __init__(self, brand, model):\n",
        "    self.brand = brand\n",
        "    self.model = model\n",
        "\n",
        "  def move(self):\n",
        "    print(\"Sail!\")\n",
        "\n",
        "class Plane:\n",
        "  def __init__(self, brand, model):\n",
        "    self.brand = brand\n",
        "    self.model = model\n",
        "\n",
        "  def move(self):\n",
        "    print(\"Fly!\")\n",
        "\n",
        "car1 = Car(\"Ford\", \"Mustang\")       #Create a Car class\n",
        "boat1 = Boat(\"Ibiza\", \"Touring 20\") #Create a Boat class\n",
        "plane1 = Plane(\"Boeing\", \"747\")     #Create a Plane class\n",
        "\n",
        "for x in (car1, boat1, plane1):\n",
        "  x.move()"
      ],
      "metadata": {
        "colab": {
          "base_uri": "https://localhost:8080/"
        },
        "id": "pX4q1gA1GwfW",
        "outputId": "92f49725-4494-491d-fb0c-cdb951964b52"
      },
      "execution_count": null,
      "outputs": [
        {
          "output_type": "stream",
          "name": "stdout",
          "text": [
            "Drive!\n",
            "Sail!\n",
            "Fly!\n"
          ]
        }
      ]
    },
    {
      "cell_type": "code",
      "source": [
        "#Create a class called Vehicle and make Car, Boat, Plane child classes of Vehicle:\n",
        "\n",
        "class Vehicle:\n",
        "  def __init__(self, brand, model):\n",
        "    self.brand = brand\n",
        "    self.model = model\n",
        "\n",
        "  def move(self):\n",
        "    print(\"Move!\")\n",
        "\n",
        "class Car(Vehicle):\n",
        "  pass\n",
        "\n",
        "class Boat(Vehicle):\n",
        "  def move(self):\n",
        "    print(\"Sail!\")\n",
        "\n",
        "class Plane(Vehicle):\n",
        "  def move(self):\n",
        "    print(\"Fly!\")\n",
        "\n",
        "car1 = Car(\"Ford\", \"Mustang\") #Create a Car object\n",
        "boat1 = Boat(\"Ibiza\", \"Touring 20\") #Create a Boat object\n",
        "plane1 = Plane(\"Boeing\", \"747\") #Create a Plane object\n",
        "\n",
        "for x in (car1, boat1, plane1):\n",
        "  print(x.brand)\n",
        "  print(x.model)\n",
        "  x.move()"
      ],
      "metadata": {
        "colab": {
          "base_uri": "https://localhost:8080/"
        },
        "id": "0nXZHcP6G0QW",
        "outputId": "f2dca5ba-a07e-418e-f4fa-6e72df6d8c07"
      },
      "execution_count": null,
      "outputs": [
        {
          "output_type": "stream",
          "name": "stdout",
          "text": [
            "Ford\n",
            "Mustang\n",
            "Move!\n",
            "Ibiza\n",
            "Touring 20\n",
            "Sail!\n",
            "Boeing\n",
            "747\n",
            "Fly!\n"
          ]
        }
      ]
    },
    {
      "cell_type": "markdown",
      "source": [
        "WEEKLY EXERCISE 1"
      ],
      "metadata": {
        "id": "XhTWYS7iCPoQ"
      }
    },
    {
      "cell_type": "code",
      "source": [
        "class AlatTulis:\n",
        "    def __init__(self, nama, stok, harga_satuan):\n",
        "        self.nama = nama\n",
        "        self.stok = stok\n",
        "        self.harga_satuan = harga_satuan\n",
        "        self.total_harga = stok * harga_satuan  # Menghitung total harga pada saat objek dibuat\n",
        "\n",
        "    # Setter untuk masing-masing atribut\n",
        "    def set_nama(self, nama):\n",
        "        self.nama = nama\n",
        "\n",
        "    def set_stok(self, stok):\n",
        "        self.stok = stok\n",
        "        self.set_total_harga()\n",
        "\n",
        "    def set_harga_satuan(self, harga_satuan):\n",
        "        self.harga_satuan = harga_satuan\n",
        "        self.set_total_harga()\n",
        "\n",
        "    def set_total_harga(self):\n",
        "        self.total_harga = self.stok * self.harga_satuan  # Menghitung ulang total harga\n",
        "\n",
        "    # Getter untuk masing-masing atribut\n",
        "    def get_nama(self):\n",
        "        return self.nama\n",
        "\n",
        "    def get_stok(self):\n",
        "        return self.stok\n",
        "\n",
        "    def get_harga_satuan(self):\n",
        "        return self.harga_satuan\n",
        "\n",
        "    def get_total_harga(self):\n",
        "        return self.total_harga\n",
        "\n",
        "\n",
        "# Membuat objek untuk bolpoint, pensil, dan penghapus\n",
        "bolpoint = AlatTulis(\"Bolpoint\", 10, 2000)\n",
        "pensil = AlatTulis(\"Pensil\", 10, 1000)\n",
        "penghapus = AlatTulis(\"Penghapus\", 10, 500)\n",
        "\n",
        "# Menampilkan informasi\n",
        "for alat in [bolpoint, pensil, penghapus]:\n",
        "        print(f\"\\n{alat.get_nama()} :\")\n",
        "        print(f\"Stok : {alat.get_stok()}\")\n",
        "        print(f\"Harga Satuan : Rp {alat.get_harga_satuan():}\")\n",
        "        print(f\"Total Harga : Rp {alat.get_total_harga():}\")\n",
        "\n",
        "# Menampilkan total harga keseluruhan\n",
        "total_keseluruhan = bolpoint.get_total_harga() + pensil.get_total_harga() + penghapus.get_total_harga()\n",
        "print(f\"\\nTotal Harga Keseluruhan : Rp {total_keseluruhan :}\")\n"
      ],
      "metadata": {
        "colab": {
          "base_uri": "https://localhost:8080/"
        },
        "id": "gwdPpc4UYzcc",
        "outputId": "ae0d136c-03b3-4eec-8635-12918b6e6cd5"
      },
      "execution_count": null,
      "outputs": [
        {
          "output_type": "stream",
          "name": "stdout",
          "text": [
            "\n",
            "Bolpoint :\n",
            "Stok : 10\n",
            "Harga Satuan : Rp 2000\n",
            "Total Harga : Rp 20000\n",
            "\n",
            "Pensil :\n",
            "Stok : 10\n",
            "Harga Satuan : Rp 1000\n",
            "Total Harga : Rp 10000\n",
            "\n",
            "Penghapus :\n",
            "Stok : 10\n",
            "Harga Satuan : Rp 500\n",
            "Total Harga : Rp 5000\n",
            "\n",
            "Total Harga Keseluruhan : Rp 35000\n"
          ]
        }
      ]
    }
  ]
}